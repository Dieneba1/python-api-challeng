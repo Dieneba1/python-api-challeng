{
 "cells": [
  {
   "cell_type": "markdown",
   "metadata": {},
   "source": [
    "# WeatherPy\n",
    "----\n",
    "\n",
    "#### Note\n",
    "* Instructions have been included for each segment. You do not have to follow them exactly, but they are included to help you think through the steps."
   ]
  },
  {
   "cell_type": "code",
   "execution_count": 1,
   "metadata": {
    "scrolled": true
   },
   "outputs": [],
   "source": [
    "# Dependencies and Setup\n",
    "import matplotlib.pyplot as plt\n",
    "import pandas as pd\n",
    "import numpy as np\n",
    "import requests\n",
    "import time\n",
    "from scipy import stats\n",
    "from scipy.stats import linregress\n",
    "\n",
    "# Import API key\n",
    "from api_keys import weather_api_key\n",
    "\n",
    "# Incorporated citipy to determine city based on latitude and longitude\n",
    "from citipy import citipy\n",
    "\n",
    "# Output File (CSV)\n",
    "output_data_file = \"output_data/cities.csv\"\n",
    "\n",
    "# Range of latitudes and longitudes\n",
    "lat_range = (-90, 90)\n",
    "lng_range = (-180, 180)"
   ]
  },
  {
   "cell_type": "markdown",
   "metadata": {},
   "source": [
    "## Generate Cities List"
   ]
  },
  {
   "cell_type": "code",
   "execution_count": 2,
   "metadata": {},
   "outputs": [
    {
     "data": {
      "text/plain": [
       "591"
      ]
     },
     "execution_count": 2,
     "metadata": {},
     "output_type": "execute_result"
    }
   ],
   "source": [
    "# List for holding lat_lngs and cities\n",
    "lat_lngs = []\n",
    "cities = []\n",
    "\n",
    "# Create a set of random lat and lng combinations\n",
    "lats = np.random.uniform(lat_range[0], lat_range[1], size=1500)\n",
    "lngs = np.random.uniform(lng_range[0], lng_range[1], size=1500)\n",
    "lat_lngs = zip(lats, lngs)\n",
    "\n",
    "# Identify nearest city for each lat, lng combination\n",
    "for lat_lng in lat_lngs:\n",
    "    city = citipy.nearest_city(lat_lng[0], lat_lng[1]).city_name\n",
    "    \n",
    "    # If the city is unique, then add it to a our cities list\n",
    "    if city not in cities:\n",
    "        cities.append(city)\n",
    "\n",
    "# Print the city count to confirm sufficient count\n",
    "len(cities)"
   ]
  },
  {
   "cell_type": "markdown",
   "metadata": {},
   "source": [
    "### Perform API Calls\n",
    "* Perform a weather check on each city using a series of successive API calls.\n",
    "* Include a print log of each city as it'sbeing processed (with the city number and city name).\n"
   ]
  },
  {
   "cell_type": "code",
   "execution_count": 3,
   "metadata": {
    "scrolled": true
   },
   "outputs": [
    {
     "name": "stdout",
     "output_type": "stream",
     "text": [
      "found new norfolk\n",
      "found bluff\n",
      "found yellowknife\n",
      "found hasaki\n",
      "found sampit\n",
      "found puerto ayora\n",
      "found mahon\n",
      "found albany\n",
      "found lebu\n",
      "found kapaa\n",
      "found cape town\n",
      "found port hardy\n",
      "found lithakia\n",
      "found puerto carreno\n",
      "found busselton\n",
      "found narsaq\n",
      "couldn't find mys shmidta\n",
      "found cherskiy\n",
      "found innisfail\n",
      "found rikitea\n",
      "found areosa\n",
      "couldn't find taolanaro\n",
      "found ushuaia\n",
      "found castro\n",
      "found tasiilaq\n",
      "found touros\n",
      "found kavieng\n",
      "found akkermanovka\n",
      "found hermanus\n",
      "found san rafael del sur\n",
      "found port augusta\n",
      "found souillac\n",
      "found manono\n",
      "found mataura\n",
      "found zeya\n",
      "found payo\n",
      "found cap malheureux\n",
      "found cayenne\n",
      "found san angelo\n",
      "found khromtau\n",
      "found tubuala\n",
      "found hithadhoo\n",
      "couldn't find ngukurr\n",
      "found luderitz\n",
      "found lumsden\n",
      "found khandyga\n",
      "found vaini\n",
      "found avarua\n",
      "found manokwari\n",
      "found east london\n",
      "found tlaxco\n",
      "found salalah\n",
      "found punta arenas\n",
      "found bereda\n",
      "found umm lajj\n",
      "found bengkulu\n",
      "found saint-ambroise\n",
      "couldn't find katha\n",
      "found lorengau\n",
      "found jaguarari\n",
      "found mar del plata\n",
      "found mahebourg\n",
      "found dikson\n",
      "found chuy\n",
      "found ribeira grande\n",
      "found samarai\n",
      "couldn't find amderma\n",
      "found saskylakh\n",
      "found gamba\n",
      "couldn't find illoqqortoormiut\n",
      "found shingu\n",
      "couldn't find lolua\n",
      "found pauini\n",
      "found beyneu\n",
      "found abha\n",
      "found atuona\n",
      "couldn't find grand river south east\n",
      "found haines junction\n",
      "found fairbanks\n",
      "found beloha\n",
      "couldn't find solovetskiy\n",
      "found sao filipe\n",
      "found zhigansk\n",
      "couldn't find miranorte\n",
      "found norman wells\n",
      "found coquimbo\n",
      "found saint-philippe\n",
      "found mogadishu\n",
      "found vila franca do campo\n",
      "found ponta do sol\n",
      "couldn't find tsihombe\n",
      "couldn't find nizhneyansk\n",
      "found dingle\n",
      "found nanakuli\n",
      "couldn't find karaul\n",
      "found havelock\n",
      "found grindavik\n",
      "couldn't find kytlym\n",
      "found nikolskoye\n",
      "found kodiak\n",
      "found jamestown\n",
      "couldn't find kamenskoye\n",
      "found ayagoz\n",
      "couldn't find rolim de moura\n",
      "found flin flon\n",
      "found kruisfontein\n",
      "found esperance\n",
      "found seguela\n",
      "found talaya\n",
      "found barrow\n",
      "found tias\n",
      "found snasa\n",
      "found jijiga\n",
      "found port alfred\n",
      "found prestea\n",
      "found bredasdorp\n",
      "found inirida\n",
      "found shiraz\n",
      "found alekseyevsk\n",
      "found college\n",
      "found antofagasta\n",
      "found nouadhibou\n",
      "found hobart\n",
      "found roma\n",
      "found tadine\n",
      "found bubaque\n",
      "found grand gaube\n",
      "found georgetown\n",
      "found hit\n",
      "found te anau\n",
      "found neiafu\n",
      "couldn't find karamay\n",
      "found oistins\n",
      "found fort nelson\n",
      "found san patricio\n",
      "found sinnamary\n",
      "couldn't find samusu\n",
      "found dublin\n",
      "found bambous virieux\n",
      "found upernavik\n",
      "found moron\n",
      "found formby\n",
      "couldn't find belushya guba\n",
      "found santa rosa\n",
      "found port elizabeth\n",
      "found tracy\n",
      "couldn't find vaitupu\n",
      "found kutum\n",
      "couldn't find umm ruwabah\n",
      "couldn't find bokspits\n",
      "found ambon\n",
      "found qaqortoq\n",
      "found suntar\n",
      "found klaksvik\n",
      "found colares\n",
      "found puerto escondido\n",
      "found ituiutaba\n",
      "found ahipara\n",
      "found svetlaya\n",
      "found seaforth\n",
      "found luanda\n",
      "couldn't find panjwin\n",
      "found bandarbeyla\n",
      "found anlu\n",
      "found richards bay\n",
      "found tuatapere\n",
      "couldn't find bacuit\n",
      "found kavaratti\n",
      "found vadso\n",
      "found hilo\n",
      "found ostrovnoy\n",
      "found makat\n",
      "found ivolginsk\n",
      "found vila do maio\n",
      "found los llanos de aridane\n",
      "found juneau\n",
      "couldn't find barentsburg\n",
      "found ferme-neuve\n",
      "found pangnirtung\n",
      "found longyearbyen\n",
      "found tiksi\n",
      "found sao joao da barra\n",
      "found la ronge\n",
      "found esmeraldas\n",
      "found praia da vitoria\n",
      "found kiruna\n",
      "found lae\n",
      "found swan hill\n",
      "found westport\n",
      "found necochea\n",
      "found florianopolis\n",
      "found loningen\n",
      "found ust-ilimsk\n",
      "found pokhara\n",
      "found clyde river\n",
      "found chai badan\n",
      "found san cristobal\n",
      "found havoysund\n",
      "found pochutla\n",
      "found najran\n",
      "found padang\n",
      "found qaanaaq\n",
      "found poum\n",
      "found sakaraha\n",
      "found port lincoln\n",
      "found sayyan\n",
      "found torbay\n",
      "found lodja\n",
      "found virden\n",
      "found viransehir\n",
      "found butaritari\n",
      "found tiznit\n",
      "found belaya gora\n",
      "found thunder bay\n",
      "found amalapuram\n",
      "found katangi\n",
      "found asfi\n",
      "found mount isa\n",
      "found lazaro cardenas\n",
      "found gazanjyk\n",
      "found holme\n",
      "found payakumbuh\n",
      "found edd\n",
      "found murgab\n",
      "found bilma\n",
      "found atambua\n",
      "found coihaique\n",
      "found bethel\n",
      "found tottori\n",
      "found robertsport\n",
      "found victoria\n",
      "couldn't find bid\n",
      "found geraldton\n",
      "found lancaster\n",
      "found tuktoyaktuk\n",
      "couldn't find borama\n",
      "found pacific grove\n",
      "found nioro\n",
      "found acapulco\n",
      "found boende\n",
      "found vestmanna\n",
      "found faanui\n",
      "found umm kaddadah\n",
      "found santander\n",
      "found kahului\n",
      "found champerico\n",
      "couldn't find matsanga\n",
      "found faya\n",
      "found xiantao\n",
      "found saint-pierre\n",
      "found collie\n",
      "couldn't find yirol\n",
      "found leningradskiy\n",
      "found tres arroyos\n",
      "found buchanan\n",
      "found kresttsy\n",
      "found dzhebariki-khaya\n",
      "found mayaky\n",
      "couldn't find marcona\n",
      "found itarema\n",
      "found sioux lookout\n",
      "found raymondville\n",
      "found balkhash\n",
      "found micheweni\n",
      "found taltal\n",
      "found waipawa\n",
      "found nkwerre\n",
      "found podosinovets\n",
      "found saint george\n",
      "found pangkalanbuun\n",
      "couldn't find utiroa\n",
      "found aasiaat\n",
      "found temple\n",
      "found taoudenni\n",
      "found meulaboh\n",
      "found somerset east\n",
      "found rawson\n",
      "found ilulissat\n",
      "found constitucion\n",
      "found aripuana\n",
      "couldn't find saleaula\n",
      "couldn't find boatlaname\n",
      "found cascais\n",
      "found kalmunai\n",
      "found arica\n",
      "found ancud\n",
      "found muyezerskiy\n",
      "found babushkin\n",
      "found metro\n",
      "couldn't find louisbourg\n",
      "found yaan\n",
      "found talnakh\n",
      "found sandakan\n",
      "found lakatoro\n",
      "found codrington\n",
      "found san quintin\n",
      "found machilipatnam\n",
      "found sao felix do xingu\n",
      "found nogales\n",
      "found guerrero negro\n",
      "found xichang\n",
      "found sur\n",
      "found nemuro\n",
      "found lavrentiya\n",
      "found taksimo\n",
      "found mount gambier\n",
      "found severo-kurilsk\n",
      "found havre-saint-pierre\n",
      "found dolores\n",
      "couldn't find cagayan de tawi-tawi\n",
      "found half moon bay\n",
      "found hami\n",
      "found chokurdakh\n",
      "found akyab\n",
      "couldn't find kedarnath\n",
      "found namibe\n",
      "found kambove\n",
      "found leshukonskoye\n",
      "found alekseyevka\n",
      "found saldanha\n",
      "found varghis\n",
      "couldn't find meyungs\n",
      "found lompoc\n",
      "found karangampel\n",
      "found alyangula\n",
      "found nabire\n",
      "found komsomolskiy\n",
      "found jambi\n",
      "found cidreira\n",
      "found bilibino\n",
      "found tura\n",
      "couldn't find tabiauea\n",
      "found husavik\n",
      "found nouakchott\n",
      "couldn't find sentyabrskiy\n",
      "couldn't find rawannawi\n",
      "found rovaniemi\n",
      "found chapais\n",
      "found eydhafushi\n",
      "found hamilton\n",
      "found bagojo\n",
      "found murud\n",
      "found kargat\n",
      "found liepaja\n",
      "found arroyo grande\n",
      "found wagar\n",
      "found nicoya\n",
      "found tongliao\n",
      "found marang\n",
      "found kevermes\n",
      "found vostok\n",
      "found airai\n",
      "found muli\n",
      "found cabedelo\n",
      "found natal\n",
      "couldn't find rungata\n",
      "found bay roberts\n",
      "found oranjemund\n",
      "found ust-nera\n",
      "found caravelas\n",
      "found thompson\n",
      "found ayr\n",
      "found kresna\n",
      "found xining\n",
      "couldn't find juifang\n",
      "found tolaga bay\n",
      "found hirara\n",
      "found tigil\n",
      "found altar\n",
      "found axim\n",
      "found aguimes\n",
      "found uyuni\n",
      "found dongsheng\n",
      "found tezu\n",
      "found ketchikan\n",
      "found hualmay\n",
      "found aurangabad\n",
      "found kiama\n",
      "found chaozhou\n",
      "found burnie\n",
      "found nova olimpia\n",
      "found honningsvag\n",
      "found makakilo city\n",
      "found zhezkazgan\n",
      "couldn't find ust-kamchatsk\n",
      "found ranong\n",
      "found provideniya\n",
      "found ixtapa\n",
      "found corinto\n",
      "found iqaluit\n",
      "found fortuna\n",
      "found turukhansk\n",
      "couldn't find metehara\n",
      "found cururupu\n",
      "found qeshm\n",
      "found minot\n",
      "found celestun\n",
      "found cockburn town\n",
      "found cabo san lucas\n",
      "found pizarro\n",
      "found preobrazheniye\n",
      "found camacha\n",
      "found iwanai\n",
      "found batemans bay\n",
      "found chintamani\n",
      "found cabinda\n",
      "found vardo\n",
      "couldn't find umzimvubu\n",
      "found tautira\n",
      "found akdepe\n",
      "found batagay-alyta\n",
      "found sable-sur-sarthe\n",
      "found chernyshevskiy\n",
      "found aginskoye\n",
      "found lagoa\n",
      "found amazar\n",
      "found lucapa\n",
      "found pipri\n",
      "found japura\n",
      "found dzilam gonzalez\n",
      "found imeni poliny osipenko\n",
      "found igarka\n",
      "found mantua\n",
      "found naze\n",
      "found daru\n",
      "found pevek\n",
      "couldn't find tumannyy\n",
      "found avera\n",
      "found anadyr\n",
      "found isangel\n",
      "found dabola\n",
      "found omboue\n",
      "found carnarvon\n",
      "found zalesovo\n",
      "found labuhan\n",
      "found tilichiki\n",
      "found channel-port aux basques\n",
      "found jerome\n",
      "found port-gentil\n",
      "found ejea de los caballeros\n",
      "found mulanje\n",
      "found korem\n",
      "found praya\n",
      "found smithers\n",
      "found khingansk\n",
      "found berlin\n",
      "couldn't find al\n",
      "found arraial do cabo\n",
      "found wenling\n",
      "found khatanga\n",
      "found palmer\n",
      "found chicama\n",
      "found boa vista\n",
      "found huarmey\n",
      "found shubarkuduk\n",
      "found victor harbor\n",
      "found huangmei\n",
      "found portland\n",
      "found pandan\n",
      "couldn't find chagda\n",
      "found lisakovsk\n",
      "found maneadero\n",
      "found batticaloa\n",
      "found eureka\n",
      "found kyzyl-suu\n",
      "found abu dhabi\n",
      "found keuruu\n",
      "found kulhudhuffushi\n",
      "found isfana\n",
      "found coos bay\n",
      "found katsuura\n",
      "found savannah bight\n",
      "found mehamn\n",
      "found comodoro rivadavia\n",
      "found shreveport\n",
      "found wanaka\n",
      "found espanola\n",
      "found lumphat\n",
      "found kuching\n",
      "found kaitangata\n",
      "found lichinga\n",
      "found lata\n",
      "found rincon\n",
      "found linxia\n",
      "found plainview\n",
      "found emerald\n",
      "found marsa matruh\n",
      "found bac lieu\n",
      "couldn't find jiddah\n",
      "found selikhino\n",
      "found tongchuan\n",
      "found rongcheng\n",
      "found jiwani\n",
      "found vila velha\n",
      "found namatanai\n",
      "found mecca\n",
      "found kanchanaburi\n",
      "found korop\n",
      "found lynn haven\n",
      "found beaufort\n",
      "found erenhot\n",
      "found duku\n",
      "found malanje\n",
      "found kaeo\n",
      "found oussouye\n",
      "found evanston\n",
      "found mwanza\n",
      "couldn't find cape elizabeth\n",
      "found kumluca\n"
     ]
    },
    {
     "name": "stdout",
     "output_type": "stream",
     "text": [
      "found birao\n",
      "found lasa\n",
      "found carballo\n",
      "found abu kamal\n",
      "found mizdah\n",
      "found ensley\n",
      "found ballina\n",
      "found wana\n",
      "found panaba\n",
      "found mombetsu\n",
      "found kenai\n",
      "found the valley\n",
      "found basoko\n",
      "found shache\n",
      "found kadiri\n",
      "found kouango\n",
      "found dryden\n",
      "found karratha\n",
      "found sebrovo\n",
      "found gwadar\n",
      "found raga\n",
      "found alice springs\n",
      "found kilindoni\n",
      "found kyren\n",
      "found nome\n",
      "found vigrestad\n",
      "couldn't find marv dasht\n",
      "found flinders\n",
      "found storforshei\n",
      "found rundu\n",
      "found davila\n",
      "found shihezi\n",
      "found pisco\n",
      "found okha\n",
      "couldn't find richard toll\n",
      "found mwene-ditu\n",
      "found tabou\n",
      "found azad shahr\n",
      "found aklavik\n",
      "found mocuba\n",
      "found laguna\n",
      "found korhogo\n",
      "found sabha\n",
      "found bonthe\n",
      "found kaseda\n",
      "found san jeronimo\n",
      "found sitka\n",
      "found okhotsk\n",
      "found san javier\n",
      "found rodrigues alves\n",
      "found ilhabela\n",
      "found san julian\n",
      "found evensk\n",
      "found nanortalik\n",
      "couldn't find geresk\n",
      "found kaduqli\n",
      "found harrison\n",
      "found san matias\n",
      "found quatre cocos\n",
      "found port victoria\n",
      "found santa fe\n",
      "found lyubinskiy\n",
      "found nchelenge\n",
      "found north branch\n",
      "found lashio\n",
      "found archidona\n",
      "found banjar\n",
      "found west bay\n",
      "found garissa\n",
      "found hay river\n",
      "found maniitsoq\n",
      "found genthin\n",
      "found valdivia\n",
      "found zharkovskiy\n",
      "found terme\n",
      "found alnashi\n",
      "found mildura\n",
      "found villa bruzual\n",
      "couldn't find saryshagan\n",
      "found staryy nadym\n",
      "found camana\n",
      "found chekhov\n"
     ]
    },
    {
     "data": {
      "text/html": [
       "<div>\n",
       "<style scoped>\n",
       "    .dataframe tbody tr th:only-of-type {\n",
       "        vertical-align: middle;\n",
       "    }\n",
       "\n",
       "    .dataframe tbody tr th {\n",
       "        vertical-align: top;\n",
       "    }\n",
       "\n",
       "    .dataframe thead th {\n",
       "        text-align: right;\n",
       "    }\n",
       "</style>\n",
       "<table border=\"1\" class=\"dataframe\">\n",
       "  <thead>\n",
       "    <tr style=\"text-align: right;\">\n",
       "      <th></th>\n",
       "      <th>Temperature</th>\n",
       "      <th>Latitude</th>\n",
       "      <th>Longitude</th>\n",
       "      <th>Humidity</th>\n",
       "      <th>Wind Speed</th>\n",
       "      <th>Cloud</th>\n",
       "      <th>Country</th>\n",
       "      <th>Date</th>\n",
       "      <th>City</th>\n",
       "    </tr>\n",
       "  </thead>\n",
       "  <tbody>\n",
       "    <tr>\n",
       "      <th>0</th>\n",
       "      <td>52.65</td>\n",
       "      <td>-42.7826</td>\n",
       "      <td>147.0587</td>\n",
       "      <td>70</td>\n",
       "      <td>5.01</td>\n",
       "      <td>94</td>\n",
       "      <td>AU</td>\n",
       "      <td>1627433520</td>\n",
       "      <td>new norfolk</td>\n",
       "    </tr>\n",
       "    <tr>\n",
       "      <th>1</th>\n",
       "      <td>51.80</td>\n",
       "      <td>-46.6000</td>\n",
       "      <td>168.3333</td>\n",
       "      <td>70</td>\n",
       "      <td>11.18</td>\n",
       "      <td>44</td>\n",
       "      <td>NZ</td>\n",
       "      <td>1627433142</td>\n",
       "      <td>bluff</td>\n",
       "    </tr>\n",
       "    <tr>\n",
       "      <th>2</th>\n",
       "      <td>61.54</td>\n",
       "      <td>62.4560</td>\n",
       "      <td>-114.3525</td>\n",
       "      <td>48</td>\n",
       "      <td>1.99</td>\n",
       "      <td>40</td>\n",
       "      <td>CA</td>\n",
       "      <td>1627433623</td>\n",
       "      <td>yellowknife</td>\n",
       "    </tr>\n",
       "    <tr>\n",
       "      <th>3</th>\n",
       "      <td>83.26</td>\n",
       "      <td>35.7333</td>\n",
       "      <td>140.8333</td>\n",
       "      <td>80</td>\n",
       "      <td>20.27</td>\n",
       "      <td>100</td>\n",
       "      <td>JP</td>\n",
       "      <td>1627433212</td>\n",
       "      <td>hasaki</td>\n",
       "    </tr>\n",
       "    <tr>\n",
       "      <th>4</th>\n",
       "      <td>82.13</td>\n",
       "      <td>-2.5333</td>\n",
       "      <td>112.9500</td>\n",
       "      <td>74</td>\n",
       "      <td>4.59</td>\n",
       "      <td>77</td>\n",
       "      <td>ID</td>\n",
       "      <td>1627433625</td>\n",
       "      <td>sampit</td>\n",
       "    </tr>\n",
       "    <tr>\n",
       "      <th>...</th>\n",
       "      <td>...</td>\n",
       "      <td>...</td>\n",
       "      <td>...</td>\n",
       "      <td>...</td>\n",
       "      <td>...</td>\n",
       "      <td>...</td>\n",
       "      <td>...</td>\n",
       "      <td>...</td>\n",
       "      <td>...</td>\n",
       "    </tr>\n",
       "    <tr>\n",
       "      <th>532</th>\n",
       "      <td>60.76</td>\n",
       "      <td>-34.2000</td>\n",
       "      <td>142.1500</td>\n",
       "      <td>63</td>\n",
       "      <td>13.80</td>\n",
       "      <td>0</td>\n",
       "      <td>AU</td>\n",
       "      <td>1627433795</td>\n",
       "      <td>mildura</td>\n",
       "    </tr>\n",
       "    <tr>\n",
       "      <th>533</th>\n",
       "      <td>75.65</td>\n",
       "      <td>9.3328</td>\n",
       "      <td>-69.1208</td>\n",
       "      <td>92</td>\n",
       "      <td>1.88</td>\n",
       "      <td>100</td>\n",
       "      <td>VE</td>\n",
       "      <td>1627433795</td>\n",
       "      <td>villa bruzual</td>\n",
       "    </tr>\n",
       "    <tr>\n",
       "      <th>534</th>\n",
       "      <td>51.42</td>\n",
       "      <td>65.6118</td>\n",
       "      <td>72.6842</td>\n",
       "      <td>77</td>\n",
       "      <td>11.59</td>\n",
       "      <td>100</td>\n",
       "      <td>RU</td>\n",
       "      <td>1627433795</td>\n",
       "      <td>staryy nadym</td>\n",
       "    </tr>\n",
       "    <tr>\n",
       "      <th>535</th>\n",
       "      <td>59.86</td>\n",
       "      <td>-16.6228</td>\n",
       "      <td>-72.7111</td>\n",
       "      <td>89</td>\n",
       "      <td>8.46</td>\n",
       "      <td>72</td>\n",
       "      <td>PE</td>\n",
       "      <td>1627433796</td>\n",
       "      <td>camana</td>\n",
       "    </tr>\n",
       "    <tr>\n",
       "      <th>536</th>\n",
       "      <td>61.45</td>\n",
       "      <td>55.1431</td>\n",
       "      <td>37.4711</td>\n",
       "      <td>85</td>\n",
       "      <td>3.24</td>\n",
       "      <td>60</td>\n",
       "      <td>RU</td>\n",
       "      <td>1627433796</td>\n",
       "      <td>chekhov</td>\n",
       "    </tr>\n",
       "  </tbody>\n",
       "</table>\n",
       "<p>537 rows × 9 columns</p>\n",
       "</div>"
      ],
      "text/plain": [
       "     Temperature  Latitude  Longitude  Humidity  Wind Speed  Cloud Country  \\\n",
       "0          52.65  -42.7826   147.0587        70        5.01     94      AU   \n",
       "1          51.80  -46.6000   168.3333        70       11.18     44      NZ   \n",
       "2          61.54   62.4560  -114.3525        48        1.99     40      CA   \n",
       "3          83.26   35.7333   140.8333        80       20.27    100      JP   \n",
       "4          82.13   -2.5333   112.9500        74        4.59     77      ID   \n",
       "..           ...       ...        ...       ...         ...    ...     ...   \n",
       "532        60.76  -34.2000   142.1500        63       13.80      0      AU   \n",
       "533        75.65    9.3328   -69.1208        92        1.88    100      VE   \n",
       "534        51.42   65.6118    72.6842        77       11.59    100      RU   \n",
       "535        59.86  -16.6228   -72.7111        89        8.46     72      PE   \n",
       "536        61.45   55.1431    37.4711        85        3.24     60      RU   \n",
       "\n",
       "           Date           City  \n",
       "0    1627433520    new norfolk  \n",
       "1    1627433142          bluff  \n",
       "2    1627433623    yellowknife  \n",
       "3    1627433212         hasaki  \n",
       "4    1627433625         sampit  \n",
       "..          ...            ...  \n",
       "532  1627433795        mildura  \n",
       "533  1627433795  villa bruzual  \n",
       "534  1627433795   staryy nadym  \n",
       "535  1627433796         camana  \n",
       "536  1627433796        chekhov  \n",
       "\n",
       "[537 rows x 9 columns]"
      ]
     },
     "execution_count": 3,
     "metadata": {},
     "output_type": "execute_result"
    }
   ],
   "source": [
    "temp=[]\n",
    "lat=[]\n",
    "long=[]\n",
    "humidity=[]\n",
    "windspeed=[]\n",
    "cloud=[]\n",
    "country=[]\n",
    "date=[]\n",
    "cityfound=[]\n",
    "for city in cities:\n",
    "    url=f\"http://api.openweathermap.org/data/2.5/weather?q={city}&appid={weather_api_key}&units=imperial\"\n",
    "    try:\n",
    "        weather=requests.get(url).json()\n",
    "        temp.append(weather[\"main\"][\"temp\"])\n",
    "        lat.append(weather[\"coord\"][\"lat\"])\n",
    "        long.append(weather[\"coord\"][\"lon\"])\n",
    "        humidity.append(weather[\"main\"][\"humidity\"])\n",
    "        windspeed.append(weather[\"wind\"][\"speed\"])\n",
    "        cloud.append(weather[\"clouds\"][\"all\"])\n",
    "        country.append(weather[\"sys\"][\"country\"])\n",
    "        date.append(weather[\"dt\"])\n",
    "        cityfound.append(city)\n",
    "        print(\"found \" + city)\n",
    "    except:\n",
    "        print(\"couldn't find \" + city)\n",
    "temp\n",
    "\n",
    "city_df=pd.DataFrame({\"Temperature\":temp,\n",
    "                      \"Latitude\":lat,\n",
    "                      \"Longitude\":long,\n",
    "                      \"Humidity\":humidity,\n",
    "                      \"Wind Speed\":windspeed,\n",
    "                      \"Cloud\":cloud,\n",
    "                      \"Country\":country,\n",
    "                      \"Date\":date,\n",
    "                      \"City\":cityfound\n",
    "                      })\n",
    "city_df\n"
   ]
  },
  {
   "cell_type": "markdown",
   "metadata": {},
   "source": [
    "### Convert Raw Data to DataFrame\n",
    "* Export the city data into a .csv.\n",
    "* Display the DataFrame"
   ]
  },
  {
   "cell_type": "code",
   "execution_count": 4,
   "metadata": {},
   "outputs": [],
   "source": [
    "city_df.to_csv(\"city.csv\")"
   ]
  },
  {
   "cell_type": "code",
   "execution_count": 5,
   "metadata": {},
   "outputs": [
    {
     "data": {
      "text/html": [
       "<div>\n",
       "<style scoped>\n",
       "    .dataframe tbody tr th:only-of-type {\n",
       "        vertical-align: middle;\n",
       "    }\n",
       "\n",
       "    .dataframe tbody tr th {\n",
       "        vertical-align: top;\n",
       "    }\n",
       "\n",
       "    .dataframe thead th {\n",
       "        text-align: right;\n",
       "    }\n",
       "</style>\n",
       "<table border=\"1\" class=\"dataframe\">\n",
       "  <thead>\n",
       "    <tr style=\"text-align: right;\">\n",
       "      <th></th>\n",
       "      <th>Temperature</th>\n",
       "      <th>Latitude</th>\n",
       "      <th>Longitude</th>\n",
       "      <th>Humidity</th>\n",
       "      <th>Wind Speed</th>\n",
       "      <th>Cloud</th>\n",
       "      <th>Country</th>\n",
       "      <th>Date</th>\n",
       "      <th>City</th>\n",
       "    </tr>\n",
       "  </thead>\n",
       "  <tbody>\n",
       "    <tr>\n",
       "      <th>0</th>\n",
       "      <td>52.65</td>\n",
       "      <td>-42.7826</td>\n",
       "      <td>147.0587</td>\n",
       "      <td>70</td>\n",
       "      <td>5.01</td>\n",
       "      <td>94</td>\n",
       "      <td>AU</td>\n",
       "      <td>1627433520</td>\n",
       "      <td>new norfolk</td>\n",
       "    </tr>\n",
       "    <tr>\n",
       "      <th>1</th>\n",
       "      <td>51.80</td>\n",
       "      <td>-46.6000</td>\n",
       "      <td>168.3333</td>\n",
       "      <td>70</td>\n",
       "      <td>11.18</td>\n",
       "      <td>44</td>\n",
       "      <td>NZ</td>\n",
       "      <td>1627433142</td>\n",
       "      <td>bluff</td>\n",
       "    </tr>\n",
       "    <tr>\n",
       "      <th>2</th>\n",
       "      <td>61.54</td>\n",
       "      <td>62.4560</td>\n",
       "      <td>-114.3525</td>\n",
       "      <td>48</td>\n",
       "      <td>1.99</td>\n",
       "      <td>40</td>\n",
       "      <td>CA</td>\n",
       "      <td>1627433623</td>\n",
       "      <td>yellowknife</td>\n",
       "    </tr>\n",
       "    <tr>\n",
       "      <th>3</th>\n",
       "      <td>83.26</td>\n",
       "      <td>35.7333</td>\n",
       "      <td>140.8333</td>\n",
       "      <td>80</td>\n",
       "      <td>20.27</td>\n",
       "      <td>100</td>\n",
       "      <td>JP</td>\n",
       "      <td>1627433212</td>\n",
       "      <td>hasaki</td>\n",
       "    </tr>\n",
       "    <tr>\n",
       "      <th>4</th>\n",
       "      <td>82.13</td>\n",
       "      <td>-2.5333</td>\n",
       "      <td>112.9500</td>\n",
       "      <td>74</td>\n",
       "      <td>4.59</td>\n",
       "      <td>77</td>\n",
       "      <td>ID</td>\n",
       "      <td>1627433625</td>\n",
       "      <td>sampit</td>\n",
       "    </tr>\n",
       "    <tr>\n",
       "      <th>...</th>\n",
       "      <td>...</td>\n",
       "      <td>...</td>\n",
       "      <td>...</td>\n",
       "      <td>...</td>\n",
       "      <td>...</td>\n",
       "      <td>...</td>\n",
       "      <td>...</td>\n",
       "      <td>...</td>\n",
       "      <td>...</td>\n",
       "    </tr>\n",
       "    <tr>\n",
       "      <th>532</th>\n",
       "      <td>60.76</td>\n",
       "      <td>-34.2000</td>\n",
       "      <td>142.1500</td>\n",
       "      <td>63</td>\n",
       "      <td>13.80</td>\n",
       "      <td>0</td>\n",
       "      <td>AU</td>\n",
       "      <td>1627433795</td>\n",
       "      <td>mildura</td>\n",
       "    </tr>\n",
       "    <tr>\n",
       "      <th>533</th>\n",
       "      <td>75.65</td>\n",
       "      <td>9.3328</td>\n",
       "      <td>-69.1208</td>\n",
       "      <td>92</td>\n",
       "      <td>1.88</td>\n",
       "      <td>100</td>\n",
       "      <td>VE</td>\n",
       "      <td>1627433795</td>\n",
       "      <td>villa bruzual</td>\n",
       "    </tr>\n",
       "    <tr>\n",
       "      <th>534</th>\n",
       "      <td>51.42</td>\n",
       "      <td>65.6118</td>\n",
       "      <td>72.6842</td>\n",
       "      <td>77</td>\n",
       "      <td>11.59</td>\n",
       "      <td>100</td>\n",
       "      <td>RU</td>\n",
       "      <td>1627433795</td>\n",
       "      <td>staryy nadym</td>\n",
       "    </tr>\n",
       "    <tr>\n",
       "      <th>535</th>\n",
       "      <td>59.86</td>\n",
       "      <td>-16.6228</td>\n",
       "      <td>-72.7111</td>\n",
       "      <td>89</td>\n",
       "      <td>8.46</td>\n",
       "      <td>72</td>\n",
       "      <td>PE</td>\n",
       "      <td>1627433796</td>\n",
       "      <td>camana</td>\n",
       "    </tr>\n",
       "    <tr>\n",
       "      <th>536</th>\n",
       "      <td>61.45</td>\n",
       "      <td>55.1431</td>\n",
       "      <td>37.4711</td>\n",
       "      <td>85</td>\n",
       "      <td>3.24</td>\n",
       "      <td>60</td>\n",
       "      <td>RU</td>\n",
       "      <td>1627433796</td>\n",
       "      <td>chekhov</td>\n",
       "    </tr>\n",
       "  </tbody>\n",
       "</table>\n",
       "<p>537 rows × 9 columns</p>\n",
       "</div>"
      ],
      "text/plain": [
       "     Temperature  Latitude  Longitude  Humidity  Wind Speed  Cloud Country  \\\n",
       "0          52.65  -42.7826   147.0587        70        5.01     94      AU   \n",
       "1          51.80  -46.6000   168.3333        70       11.18     44      NZ   \n",
       "2          61.54   62.4560  -114.3525        48        1.99     40      CA   \n",
       "3          83.26   35.7333   140.8333        80       20.27    100      JP   \n",
       "4          82.13   -2.5333   112.9500        74        4.59     77      ID   \n",
       "..           ...       ...        ...       ...         ...    ...     ...   \n",
       "532        60.76  -34.2000   142.1500        63       13.80      0      AU   \n",
       "533        75.65    9.3328   -69.1208        92        1.88    100      VE   \n",
       "534        51.42   65.6118    72.6842        77       11.59    100      RU   \n",
       "535        59.86  -16.6228   -72.7111        89        8.46     72      PE   \n",
       "536        61.45   55.1431    37.4711        85        3.24     60      RU   \n",
       "\n",
       "           Date           City  \n",
       "0    1627433520    new norfolk  \n",
       "1    1627433142          bluff  \n",
       "2    1627433623    yellowknife  \n",
       "3    1627433212         hasaki  \n",
       "4    1627433625         sampit  \n",
       "..          ...            ...  \n",
       "532  1627433795        mildura  \n",
       "533  1627433795  villa bruzual  \n",
       "534  1627433795   staryy nadym  \n",
       "535  1627433796         camana  \n",
       "536  1627433796        chekhov  \n",
       "\n",
       "[537 rows x 9 columns]"
      ]
     },
     "execution_count": 5,
     "metadata": {},
     "output_type": "execute_result"
    }
   ],
   "source": [
    "city_df"
   ]
  },
  {
   "cell_type": "markdown",
   "metadata": {},
   "source": [
    "## Inspect the data and remove the cities where the humidity > 100%.\n",
    "----\n",
    "Skip this step if there are no cities that have humidity > 100%. "
   ]
  },
  {
   "cell_type": "code",
   "execution_count": 6,
   "metadata": {},
   "outputs": [
    {
     "data": {
      "text/plain": [
       "0"
      ]
     },
     "execution_count": 6,
     "metadata": {},
     "output_type": "execute_result"
    }
   ],
   "source": [
    "humidity_df=city_df.loc[city_df[\"Humidity\"]>100]\n",
    "len(humidity_df)"
   ]
  },
  {
   "cell_type": "code",
   "execution_count": 7,
   "metadata": {},
   "outputs": [],
   "source": [
    "#  Get the indices of cities that have humidity over 100%.\n"
   ]
  },
  {
   "cell_type": "code",
   "execution_count": 8,
   "metadata": {},
   "outputs": [],
   "source": [
    "# Make a new DataFrame equal to the city data to drop all humidity outliers by index.\n",
    "# Passing \"inplace=False\" will make a copy of the city_data DataFrame, which we call \"clean_city_data\".\n"
   ]
  },
  {
   "cell_type": "code",
   "execution_count": null,
   "metadata": {},
   "outputs": [],
   "source": [
    "\n"
   ]
  },
  {
   "cell_type": "markdown",
   "metadata": {},
   "source": [
    "## Plotting the Data\n",
    "* Use proper labeling of the plots using plot titles (including date of analysis) and axes labels.\n",
    "* Save the plotted figures as .pngs."
   ]
  },
  {
   "cell_type": "markdown",
   "metadata": {},
   "source": [
    "## Latitude vs. Temperature Plot"
   ]
  },
  {
   "cell_type": "code",
   "execution_count": 9,
   "metadata": {
    "scrolled": true
   },
   "outputs": [
    {
     "data": {
      "image/png": "[encoded data removed]",
      "text/plain": [
       "<Figure size 432x288 with 1 Axes>"
      ]
     },
     "metadata": {
      "needs_background": "light"
     },
     "output_type": "display_data"
    }
   ],
   "source": [
    "x_values = city_df['Latitude']\n",
    "y_values = city_df['Temperature']\n",
    "plt.scatter(x_values,y_values)\n",
    "plt.xlabel('Latitude')\n",
    "plt.ylabel('Temperature')\n",
    "plt.title('City Latitude vs Temperature')\n",
    "plt.show()"
   ]
  },
  {
   "cell_type": "markdown",
   "metadata": {},
   "source": [
    "## Latitude vs. Humidity Plot"
   ]
  },
  {
   "cell_type": "code",
   "execution_count": 10,
   "metadata": {},
   "outputs": [
    {
     "data": {
      "image/png": "[encoded data removed]",
      "text/plain": [
       "<Figure size 432x288 with 1 Axes>"
      ]
     },
     "metadata": {
      "needs_background": "light"
     },
     "output_type": "display_data"
    }
   ],
   "source": [
    "x_values = city_df['Latitude']\n",
    "y_values = city_df['Humidity']\n",
    "plt.scatter(x_values,y_values)\n",
    "plt.xlabel('Latitude')\n",
    "plt.ylabel('Humidity')\n",
    "plt.title('City Latitude vs Humidity')\n",
    "plt.show()"
   ]
  },
  {
   "cell_type": "markdown",
   "metadata": {},
   "source": [
    "## Latitude vs. Cloudiness Plot"
   ]
  },
  {
   "cell_type": "code",
   "execution_count": 11,
   "metadata": {},
   "outputs": [
    {
     "data": {
      "image/png": "[encoded data removed]",
      "text/plain": [
       "<Figure size 432x288 with 1 Axes>"
      ]
     },
     "metadata": {
      "needs_background": "light"
     },
     "output_type": "display_data"
    }
   ],
   "source": [
    "x_values = city_df['Latitude']\n",
    "y_values = city_df['Cloud']\n",
    "plt.scatter(x_values,y_values)\n",
    "plt.xlabel('Latitude')\n",
    "plt.ylabel('Cloud')\n",
    "plt.title('City Latitude vs Cloudiness')\n",
    "plt.show()"
   ]
  },
  {
   "cell_type": "markdown",
   "metadata": {},
   "source": [
    "## Latitude vs. Wind Speed Plot"
   ]
  },
  {
   "cell_type": "code",
   "execution_count": 12,
   "metadata": {},
   "outputs": [
    {
     "data": {
      "image/png": "[encoded data removed]",
      "text/plain": [
       "<Figure size 432x288 with 1 Axes>"
      ]
     },
     "metadata": {
      "needs_background": "light"
     },
     "output_type": "display_data"
    }
   ],
   "source": [
    "x_values = city_df['Latitude']\n",
    "y_values = city_df['Wind Speed']\n",
    "plt.scatter(x_values,y_values)\n",
    "plt.xlabel('Latitude')\n",
    "plt.ylabel('Wind Speed')\n",
    "plt.title('City Latitude vs Wind Speed')\n",
    "plt.show()"
   ]
  },
  {
   "cell_type": "markdown",
   "metadata": {},
   "source": [
    "## Linear Regression"
   ]
  },
  {
   "cell_type": "markdown",
   "metadata": {},
   "source": [
    "####  Northern Hemisphere - Max Temp vs. Latitude Linear Regression"
   ]
  },
  {
   "cell_type": "code",
   "execution_count": 13,
   "metadata": {},
   "outputs": [
    {
     "name": "stdout",
     "output_type": "stream",
     "text": [
      "2      60.653915\n",
      "3      71.731341\n",
      "6      70.008876\n",
      "7      68.884830\n",
      "9      77.393067\n",
      "         ...    \n",
      "530    69.461403\n",
      "531    63.252453\n",
      "533    82.675205\n",
      "534    59.345733\n",
      "536    63.685349\n",
      "Name: Latitude, Length: 373, dtype: float64\n",
      "y = -0.41x +86.54\n"
     ]
    }
   ],
   "source": [
    "Northern_df=city_df.loc[city_df[\"Latitude\"]>=0]\n",
    "Northern_df\n",
    "x_values = Northern_df['Latitude']\n",
    "y_values = Northern_df['Temperature']\n",
    "(slope, intercept, rvalue, pvalue, stderr) = stats.linregress(x_values, y_values)\n",
    "regress_values = x_values * slope + intercept\n",
    "line_eq = \"y = \" + str(round(slope,2)) + \"x +\" + str(round(intercept,2))\n",
    "print(regress_values)\n",
    "print(line_eq)\n"
   ]
  },
  {
   "cell_type": "code",
   "execution_count": 14,
   "metadata": {
    "scrolled": true
   },
   "outputs": [
    {
     "name": "stdout",
     "output_type": "stream",
     "text": [
      "The r-value is: 0.4205799484451455\n"
     ]
    },
    {
     "data": {
      "image/png": "[encoded data removed]",
      "text/plain": [
       "<Figure size 432x288 with 1 Axes>"
      ]
     },
     "metadata": {
      "needs_background": "light"
     },
     "output_type": "display_data"
    }
   ],
   "source": [
    "plt.scatter(x_values,y_values)\n",
    "plt.plot(x_values,regress_values,\"r-\")\n",
    "\n",
    "plt.xlabel('Latitude')\n",
    "plt.ylabel('Max Temperature')\n",
    "\n",
    "print(f\"The r-value is: {rvalue**2}\")\n",
    "plt.annotate(\"y = -0.45x +87.8\",(-50,80),fontsize=15,color=\"red\")\n",
    "\n",
    "plt.show()\n"
   ]
  },
  {
   "cell_type": "markdown",
   "metadata": {},
   "source": [
    "####  Southern Hemisphere - Max Temp vs. Latitude Linear Regression"
   ]
  },
  {
   "cell_type": "code",
   "execution_count": 15,
   "metadata": {},
   "outputs": [
    {
     "name": "stdout",
     "output_type": "stream",
     "text": [
      "0      49.187876\n",
      "1      46.584264\n",
      "4      76.639430\n",
      "5      77.863006\n",
      "8      52.711216\n",
      "         ...    \n",
      "522    72.781345\n",
      "524    78.057864\n",
      "528    51.212438\n",
      "532    55.041536\n",
      "535    67.029855\n",
      "Name: Latitude, Length: 164, dtype: float64\n",
      "y = 0.68x +78.37\n"
     ]
    }
   ],
   "source": [
    "Southern_df=city_df.loc[city_df[\"Latitude\"]<0]\n",
    "Southern_df\n",
    "x_values = Southern_df['Latitude']\n",
    "y_values = Southern_df['Temperature']\n",
    "(slope, intercept, rvalue, pvalue, stderr) = stats.linregress(x_values, y_values)\n",
    "regress_values = x_values * slope + intercept\n",
    "line_eq = \"y = \" + str(round(slope,2)) + \"x +\" + str(round(intercept,2))\n",
    "print(regress_values)\n",
    "print(line_eq)"
   ]
  },
  {
   "cell_type": "code",
   "execution_count": 16,
   "metadata": {},
   "outputs": [
    {
     "name": "stdout",
     "output_type": "stream",
     "text": [
      "The r-value is: 0.582540777477247\n"
     ]
    },
    {
     "data": {
      "image/png": "[encoded data removed]",
      "text/plain": [
       "<Figure size 432x288 with 1 Axes>"
      ]
     },
     "metadata": {
      "needs_background": "light"
     },
     "output_type": "display_data"
    }
   ],
   "source": [
    "plt.scatter(x_values,y_values)\n",
    "plt.plot(x_values,regress_values,\"r-\")\n",
    "\n",
    "plt.xlabel('Latitude')\n",
    "plt.ylabel('Max Temperature')\n",
    "plt.annotate(line_eq,(20,15),fontsize=15,color=\"red\")\n",
    "\n",
    "print(f\"The r-value is: {rvalue**2}\")\n",
    "plt.annotate(\"y = 0.74x +78.66\",(-50,70),fontsize=15,color=\"red\")\n",
    "\n",
    "plt.show()"
   ]
  },
  {
   "cell_type": "markdown",
   "metadata": {},
   "source": []
  },
  {
   "cell_type": "markdown",
   "metadata": {},
   "source": [
    "####  Northern Hemisphere - Humidity (%) vs. Latitude Linear Regression"
   ]
  },
  {
   "cell_type": "code",
   "execution_count": 17,
   "metadata": {},
   "outputs": [
    {
     "name": "stdout",
     "output_type": "stream",
     "text": [
      "2      68.599912\n",
      "3      72.261495\n",
      "6      71.692143\n",
      "7      71.320596\n",
      "9      74.132947\n",
      "         ...    \n",
      "530    71.511179\n",
      "531    69.458844\n",
      "533    75.878929\n",
      "534    68.167499\n",
      "536    69.601936\n",
      "Name: Latitude, Length: 373, dtype: float64\n",
      "y = -0.14x +77.16\n"
     ]
    }
   ],
   "source": [
    "x_values = Northern_df['Latitude']\n",
    "y_values = Northern_df['Humidity']\n",
    "(slope, intercept, rvalue, pvalue, stderr) = stats.linregress(x_values, y_values)\n",
    "regress_values = x_values * slope + intercept\n",
    "line_eq = \"y = \" + str(round(slope,2)) + \"x +\" + str(round(intercept,2))\n",
    "print(regress_values)\n",
    "print(line_eq)"
   ]
  },
  {
   "cell_type": "code",
   "execution_count": 18,
   "metadata": {},
   "outputs": [
    {
     "name": "stdout",
     "output_type": "stream",
     "text": [
      "The r-value is: 0.020469925235559343\n"
     ]
    },
    {
     "data": {
      "image/png": "[encoded data removed]",
      "text/plain": [
       "<Figure size 432x288 with 1 Axes>"
      ]
     },
     "metadata": {
      "needs_background": "light"
     },
     "output_type": "display_data"
    }
   ],
   "source": [
    "plt.scatter(x_values,y_values)\n",
    "plt.plot(x_values,regress_values,\"r-\")\n",
    "\n",
    "plt.xlabel('Latitude')\n",
    "plt.ylabel('Humidity')\n",
    "\n",
    "print(f\"The r-value is: {rvalue**2}\")\n",
    "plt.annotate(\"y = -0.06x +74.44\",(0,50),fontsize=15,color=\"red\")\n",
    "\n",
    "plt.show()"
   ]
  },
  {
   "cell_type": "markdown",
   "metadata": {},
   "source": [
    "####  Southern Hemisphere - Humidity (%) vs. Latitude Linear Regression"
   ]
  },
  {
   "cell_type": "code",
   "execution_count": 23,
   "metadata": {},
   "outputs": [
    {
     "name": "stdout",
     "output_type": "stream",
     "text": [
      "0      71.972628\n",
      "1      72.112328\n",
      "4      70.499677\n",
      "5      70.434025\n",
      "8      71.783578\n",
      "         ...    \n",
      "522    70.706688\n",
      "524    70.423569\n",
      "528    71.863997\n",
      "532    71.658542\n",
      "535    71.015292\n",
      "Name: Latitude, Length: 164, dtype: float64\n",
      "y = -0.04x +70.41\n"
     ]
    }
   ],
   "source": [
    "x_values = Southern_df['Latitude']\n",
    "y_values = Southern_df['Humidity']\n",
    "(slope, intercept, rvalue, pvalue, stderr) = stats.linregress(x_values, y_values)\n",
    "regress_values = x_values * slope + intercept\n",
    "line_eq = \"y = \" + str(round(slope,2)) + \"x +\" + str(round(intercept,2))\n",
    "print(regress_values)\n",
    "print(line_eq)"
   ]
  },
  {
   "cell_type": "code",
   "execution_count": 25,
   "metadata": {},
   "outputs": [
    {
     "name": "stdout",
     "output_type": "stream",
     "text": [
      "The r-value is: 0.0009191020193893798\n"
     ]
    },
    {
     "data": {
      "image/png": "[encoded data removed]",
      "text/plain": [
       "<Figure size 432x288 with 1 Axes>"
      ]
     },
     "metadata": {
      "needs_background": "light"
     },
     "output_type": "display_data"
    }
   ],
   "source": [
    "plt.scatter(x_values,y_values)\n",
    "plt.plot(x_values,regress_values,\"r-\")\n",
    "\n",
    "plt.xlabel('Latitude')\n",
    "plt.ylabel('Humidity')\n",
    "plt.annotate(line_eq,(20,15),fontsize=15,color=\"red\")\n",
    "\n",
    "print(f\"The r-value is: {rvalue**2}\")\n",
    "plt.annotate(\"y = -0.04x +70.41\",(-50,40),fontsize=15,color=\"red\")\n",
    "\n",
    "plt.show()"
   ]
  },
  {
   "cell_type": "markdown",
   "metadata": {},
   "source": [
    "####  Northern Hemisphere - Cloudiness (%) vs. Latitude Linear Regression"
   ]
  },
  {
   "cell_type": "code",
   "execution_count": 19,
   "metadata": {},
   "outputs": [
    {
     "name": "stdout",
     "output_type": "stream",
     "text": [
      "2      58.704257\n",
      "3      61.420945\n",
      "6      60.998518\n",
      "7      60.722851\n",
      "9      62.809458\n",
      "         ...    \n",
      "530    60.864253\n",
      "531    59.341536\n",
      "533    64.104878\n",
      "534    58.383431\n",
      "536    59.447702\n",
      "Name: Latitude, Length: 373, dtype: float64\n",
      "y = -0.1x +65.05\n"
     ]
    }
   ],
   "source": [
    "x_values = Northern_df['Latitude']\n",
    "y_values = Northern_df['Cloud']\n",
    "(slope, intercept, rvalue, pvalue, stderr) = stats.linregress(x_values, y_values)\n",
    "regress_values = x_values * slope + intercept\n",
    "line_eq = \"y = \" + str(round(slope,2)) + \"x +\" + str(round(intercept,2))\n",
    "print(regress_values)\n",
    "print(line_eq)"
   ]
  },
  {
   "cell_type": "code",
   "execution_count": 20,
   "metadata": {},
   "outputs": [
    {
     "name": "stdout",
     "output_type": "stream",
     "text": [
      "The r-value is: 0.002670608228420137\n"
     ]
    },
    {
     "data": {
      "image/png": "[encoded data removed]",
      "text/plain": [
       "<Figure size 432x288 with 1 Axes>"
      ]
     },
     "metadata": {
      "needs_background": "light"
     },
     "output_type": "display_data"
    }
   ],
   "source": [
    "plt.scatter(x_values,y_values)\n",
    "plt.plot(x_values,regress_values,\"r-\")\n",
    "\n",
    "plt.xlabel('Latitude')\n",
    "plt.ylabel('Cloudiness')\n",
    "\n",
    "print(f\"The r-value is: {rvalue**2}\")\n",
    "plt.annotate(\"y = -0.07x +61.63\",(1,1),fontsize=15,color=\"red\")\n",
    "\n",
    "plt.show()"
   ]
  },
  {
   "cell_type": "markdown",
   "metadata": {},
   "source": [
    "####  Southern Hemisphere - Cloudiness (%) vs. Latitude Linear Regression"
   ]
  },
  {
   "cell_type": "code",
   "execution_count": null,
   "metadata": {},
   "outputs": [],
   "source": []
  },
  {
   "cell_type": "markdown",
   "metadata": {},
   "source": [
    "####  Northern Hemisphere - Wind Speed (mph) vs. Latitude Linear Regression"
   ]
  },
  {
   "cell_type": "code",
   "execution_count": 21,
   "metadata": {},
   "outputs": [
    {
     "name": "stdout",
     "output_type": "stream",
     "text": [
      "2      72.578597\n",
      "3      70.547327\n",
      "6      72.287464\n",
      "7      72.630824\n",
      "9      72.578597\n",
      "         ...    \n",
      "530    71.166264\n",
      "531    72.130785\n",
      "533    72.590821\n",
      "534    71.511847\n",
      "536    72.439698\n",
      "Name: Wind Speed, Length: 373, dtype: float64\n",
      "y = -0.11x +72.8\n"
     ]
    }
   ],
   "source": [
    "x_values = Northern_df['Wind Speed']\n",
    "y_values = Northern_df['Humidity']\n",
    "(slope, intercept, rvalue, pvalue, stderr) = stats.linregress(x_values, y_values)\n",
    "regress_values = x_values * slope + intercept\n",
    "line_eq = \"y = \" + str(round(slope,2)) + \"x +\" + str(round(intercept,2))\n",
    "print(regress_values)\n",
    "print(line_eq)"
   ]
  },
  {
   "cell_type": "code",
   "execution_count": 22,
   "metadata": {},
   "outputs": [
    {
     "name": "stdout",
     "output_type": "stream",
     "text": [
      "The r-value is: 0.0009907134639654228\n"
     ]
    },
    {
     "data": {
      "image/png": "[encoded data removed]",
      "text/plain": [
       "<Figure size 432x288 with 1 Axes>"
      ]
     },
     "metadata": {
      "needs_background": "light"
     },
     "output_type": "display_data"
    }
   ],
   "source": [
    "plt.scatter(x_values,y_values)\n",
    "plt.plot(x_values,regress_values,\"r-\")\n",
    "\n",
    "plt.xlabel('Latitude')\n",
    "plt.ylabel('Wind Speed mph')\n",
    "plt.annotate(line_eq,(20,15),fontsize=15,color=\"red\")\n",
    "\n",
    "print(f\"The r-value is: {rvalue**2}\")\n",
    "plt.annotate(\"y = -0.06x +74.44\",(1,1),fontsize=15,color=\"red\")\n",
    "\n",
    "plt.show()"
   ]
  },
  {
   "cell_type": "markdown",
   "metadata": {},
   "source": [
    "####  Southern Hemisphere - Wind Speed (mph) vs. Latitude Linear Regression"
   ]
  },
  {
   "cell_type": "code",
   "execution_count": null,
   "metadata": {},
   "outputs": [],
   "source": []
  },
  {
   "cell_type": "code",
   "execution_count": null,
   "metadata": {},
   "outputs": [],
   "source": []
  },
  {
   "cell_type": "code",
   "execution_count": null,
   "metadata": {},
   "outputs": [],
   "source": []
  }
 ],
 "metadata": {
  "anaconda-cloud": {},
  "kernel_info": {
   "name": "python3"
  },
  "kernelspec": {
   "display_name": "Python [conda env:PythonData]",
   "language": "python",
   "name": "conda-env-PythonData-py"
  },
  "language_info": {
   "codemirror_mode": {
    "name": "ipython",
    "version": 3
   },
   "file_extension": ".py",
   "mimetype": "text/x-python",
   "name": "python",
   "nbconvert_exporter": "python",
   "pygments_lexer": "ipython3",
   "version": "3.8.8"
  },
  "latex_envs": {
   "LaTeX_envs_menu_present": true,
   "autoclose": false,
   "autocomplete": true,
   "bibliofile": "biblio.bib",
   "cite_by": "apalike",
   "current_citInitial": 1,
   "eqLabelWithNumbers": true,
   "eqNumInitial": 1,
   "hotkeys": {
    "equation": "Ctrl-E",
    "itemize": "Ctrl-I"
   },
   "labels_anchors": false,
   "latex_user_defs": false,
   "report_style_numbering": false,
   "user_envs_cfg": false
  },
  "nteract": {
   "version": "0.12.3"
  }
 },
 "nbformat": 4,
 "nbformat_minor": 2
}
